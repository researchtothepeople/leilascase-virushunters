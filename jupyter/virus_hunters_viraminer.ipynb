{
  "nbformat": 4,
  "nbformat_minor": 0,
  "metadata": {
    "colab": {
      "name": "virus-hunters-viraminer.ipynb",
      "provenance": [],
      "collapsed_sections": [],
      "machine_shape": "hm"
    },
    "kernelspec": {
      "name": "python2",
      "display_name": "Python 2"
    }
  },
  "cells": [
    {
      "cell_type": "code",
      "metadata": {
        "id": "E4HjeGWyNwIC",
        "colab_type": "code",
        "colab": {
          "base_uri": "https://localhost:8080/",
          "height": 80
        },
        "outputId": "e4814c9f-568c-4acf-c3ef-88b280f73727"
      },
      "source": [
        "import numpy as np\n",
        "\n",
        "from keras.models import load_model\n",
        "\n",
        "from keras.models import Model#, Sequential\n",
        "from keras.layers import Input, Dense, Conv1D, concatenate, Dropout\n",
        "from keras.layers import GlobalMaxPooling1D,GlobalAveragePooling1D\n",
        "from keras.callbacks import ModelCheckpoint, Callback, LearningRateScheduler\n",
        "from keras.optimizers import Adam, Nadam,SGD"
      ],
      "execution_count": 1,
      "outputs": [
        {
          "output_type": "stream",
          "text": [
            "Using TensorFlow backend.\n"
          ],
          "name": "stderr"
        },
        {
          "output_type": "display_data",
          "data": {
            "text/plain": [
              "<IPython.core.display.HTML object>"
            ],
            "text/html": [
              "<p style=\"color: red;\">\n",
              "The default version of TensorFlow in Colab will soon switch to TensorFlow 2.x.<br>\n",
              "We recommend you <a href=\"https://www.tensorflow.org/guide/migrate\" target=\"_blank\">upgrade</a> now \n",
              "or ensure your notebook will continue to use TensorFlow 1.x via the <code>%tensorflow_version 1.x</code> magic:\n",
              "<a href=\"https://colab.research.google.com/notebooks/tensorflow_version.ipynb\" target=\"_blank\">more info</a>.</p>\n"
            ]
          },
          "metadata": {
            "tags": []
          }
        }
      ]
    },
    {
      "cell_type": "code",
      "metadata": {
        "id": "gjq86UcQN39t",
        "colab_type": "code",
        "outputId": "87f3a775-71ff-4ef1-cbda-2a4531d471a8",
        "colab": {
          "base_uri": "https://localhost:8080/",
          "height": 1000
        }
      },
      "source": [
        "# LOAD MODEL\n",
        "\n",
        "# model = load_model('/content/final_ViraMiner_afterFT.hdf5')\n",
        "model = load_model('/content/best_ViraMiner_end2end.hdf5')\n",
        "model.summary()"
      ],
      "execution_count": 3,
      "outputs": [
        {
          "output_type": "stream",
          "text": [
            "W0112 22:43:24.536756 139938234902400 module_wrapper.py:139] From /usr/local/lib/python2.7/dist-packages/keras/backend/tensorflow_backend.py:517: The name tf.placeholder is deprecated. Please use tf.compat.v1.placeholder instead.\n",
            "\n",
            "W0112 22:43:24.554493 139938234902400 module_wrapper.py:139] From /usr/local/lib/python2.7/dist-packages/keras/backend/tensorflow_backend.py:4138: The name tf.random_uniform is deprecated. Please use tf.random.uniform instead.\n",
            "\n",
            "W0112 22:43:24.600919 139938234902400 module_wrapper.py:139] From /usr/local/lib/python2.7/dist-packages/keras/backend/tensorflow_backend.py:131: The name tf.get_default_graph is deprecated. Please use tf.compat.v1.get_default_graph instead.\n",
            "\n",
            "W0112 22:43:24.601942 139938234902400 module_wrapper.py:139] From /usr/local/lib/python2.7/dist-packages/keras/backend/tensorflow_backend.py:133: The name tf.placeholder_with_default is deprecated. Please use tf.compat.v1.placeholder_with_default instead.\n",
            "\n",
            "W0112 22:43:24.609081 139938234902400 deprecation.py:506] From /usr/local/lib/python2.7/dist-packages/keras/backend/tensorflow_backend.py:3445: calling dropout (from tensorflow.python.ops.nn_ops) with keep_prob is deprecated and will be removed in a future version.\n",
            "Instructions for updating:\n",
            "Please use `rate` instead of `keep_prob`. Rate should be set to `rate = 1 - keep_prob`.\n",
            "W0112 22:43:24.710967 139938234902400 module_wrapper.py:139] From /usr/local/lib/python2.7/dist-packages/keras/backend/tensorflow_backend.py:174: The name tf.get_default_session is deprecated. Please use tf.compat.v1.get_default_session instead.\n",
            "\n",
            "W0112 22:43:24.712126 139938234902400 module_wrapper.py:139] From /usr/local/lib/python2.7/dist-packages/keras/backend/tensorflow_backend.py:181: The name tf.ConfigProto is deprecated. Please use tf.compat.v1.ConfigProto instead.\n",
            "\n",
            "W0112 22:43:24.713052 139938234902400 module_wrapper.py:139] From /usr/local/lib/python2.7/dist-packages/keras/backend/tensorflow_backend.py:186: The name tf.Session is deprecated. Please use tf.compat.v1.Session instead.\n",
            "\n",
            "W0112 22:43:24.875962 139938234902400 module_wrapper.py:139] From /usr/local/lib/python2.7/dist-packages/keras/backend/tensorflow_backend.py:190: The name tf.global_variables is deprecated. Please use tf.compat.v1.global_variables instead.\n",
            "\n",
            "W0112 22:43:24.877540 139938234902400 module_wrapper.py:139] From /usr/local/lib/python2.7/dist-packages/keras/backend/tensorflow_backend.py:199: The name tf.is_variable_initialized is deprecated. Please use tf.compat.v1.is_variable_initialized instead.\n",
            "\n",
            "W0112 22:43:24.950611 139938234902400 module_wrapper.py:139] From /usr/local/lib/python2.7/dist-packages/keras/backend/tensorflow_backend.py:206: The name tf.variables_initializer is deprecated. Please use tf.compat.v1.variables_initializer instead.\n",
            "\n",
            "W0112 22:43:25.065638 139938234902400 module_wrapper.py:139] From /usr/local/lib/python2.7/dist-packages/keras/optimizers.py:790: The name tf.train.Optimizer is deprecated. Please use tf.compat.v1.train.Optimizer instead.\n",
            "\n",
            "W0112 22:43:25.071656 139938234902400 module_wrapper.py:139] From /usr/local/lib/python2.7/dist-packages/keras/backend/tensorflow_backend.py:3376: The name tf.log is deprecated. Please use tf.math.log instead.\n",
            "\n",
            "W0112 22:43:25.075977 139938234902400 deprecation.py:323] From /usr/local/lib/python2.7/dist-packages/tensorflow_core/python/ops/nn_impl.py:183: where (from tensorflow.python.ops.array_ops) is deprecated and will be removed in a future version.\n",
            "Instructions for updating:\n",
            "Use tf.where in 2.0, which has the same broadcast rule as np.where\n",
            "W0112 22:43:25.378921 139938234902400 module_wrapper.py:139] From /usr/local/lib/python2.7/dist-packages/keras/backend/tensorflow_backend.py:986: The name tf.assign_add is deprecated. Please use tf.compat.v1.assign_add instead.\n",
            "\n",
            "W0112 22:43:25.498078 139938234902400 module_wrapper.py:139] From /usr/local/lib/python2.7/dist-packages/keras/backend/tensorflow_backend.py:973: The name tf.assign is deprecated. Please use tf.compat.v1.assign instead.\n",
            "\n"
          ],
          "name": "stderr"
        },
        {
          "output_type": "stream",
          "text": [
            "__________________________________________________________________________________________________\n",
            "Layer (type)                    Output Shape         Param #     Connected to                     \n",
            "==================================================================================================\n",
            "input_1 (InputLayer)            (None, 300, 5)       0                                            \n",
            "__________________________________________________________________________________________________\n",
            "conv1d_1 (Conv1D)               (None, 293, 1000)    41000       input_1[0][0]                    \n",
            "__________________________________________________________________________________________________\n",
            "conv1d_2 (Conv1D)               (None, 290, 1200)    67200       input_1[0][0]                    \n",
            "__________________________________________________________________________________________________\n",
            "global_average_pooling1d_1 (Glo (None, 1000)         0           conv1d_1[0][0]                   \n",
            "__________________________________________________________________________________________________\n",
            "global_max_pooling1d_1 (GlobalM (None, 1200)         0           conv1d_2[0][0]                   \n",
            "__________________________________________________________________________________________________\n",
            "dropout_1 (Dropout)             (None, 1000)         0           global_average_pooling1d_1[0][0] \n",
            "__________________________________________________________________________________________________\n",
            "dropout_2 (Dropout)             (None, 1200)         0           global_max_pooling1d_1[0][0]     \n",
            "__________________________________________________________________________________________________\n",
            "fc_layer1 (Dense)               (None, 1000)         1001000     dropout_1[0][0]                  \n",
            "__________________________________________________________________________________________________\n",
            "fc_layer2 (Dense)               (None, 1200)         1441200     dropout_2[0][0]                  \n",
            "__________________________________________________________________________________________________\n",
            "concatenate_1 (Concatenate)     (None, 2200)         0           fc_layer1[0][0]                  \n",
            "                                                                 fc_layer2[0][0]                  \n",
            "__________________________________________________________________________________________________\n",
            "drop_fc1 (Dropout)              (None, 2200)         0           concatenate_1[0][0]              \n",
            "__________________________________________________________________________________________________\n",
            "dense_1 (Dense)                 (None, 1)            2201        drop_fc1[0][0]                   \n",
            "==================================================================================================\n",
            "Total params: 2,552,601\n",
            "Trainable params: 2,552,601\n",
            "Non-trainable params: 0\n",
            "__________________________________________________________________________________________________\n"
          ],
          "name": "stdout"
        }
      ]
    },
    {
      "cell_type": "code",
      "metadata": {
        "id": "KK1GoKAkOEP8",
        "colab_type": "code",
        "colab": {}
      },
      "source": [
        "# HELPER FUNCTIONS\n",
        "\n",
        "def DNA_to_onehot(dna_line):\n",
        "  options_onehot = {'A': [1,0,0,0,0],'C' :[0,1,0,0,0], 'G':[0,0,1,0,0] ,'T':[0,0,0,1,0],'N':[0,0,0,0,0]}\n",
        "  onehot_data = map(lambda e: options_onehot[e], dna_line)\n",
        "  onehot_data = np.array(onehot_data)\n",
        "  return onehot_data \n",
        "\n",
        "def predict_one_by_one(model, seqs):\n",
        "  prediction_data=np.empty([len(seqs),3]) # true_class, pred_class, proba, seq_length \n",
        "  predictions = np.empty([len(seqs)])\n",
        "  scores = np.empty([len(seqs)])\n",
        "  for i,seq in enumerate(seqs):\n",
        "    p = model.predict(np.expand_dims(seq,axis=0))\n",
        "    prediction = int(p>0.5)\n",
        "    predictions[i] = prediction\n",
        "    scores[i] = p\n",
        "    prediction_data[i,0] = prediction\n",
        "    prediction_data[i,1] = p\n",
        "    prediction_data[i,2] = len(seq)\n",
        "  # return prediction_data\n",
        "  return predictions, scores"
      ],
      "execution_count": 0,
      "outputs": []
    },
    {
      "cell_type": "code",
      "metadata": {
        "id": "_CagPrlLOFj3",
        "colab_type": "code",
        "outputId": "894d252e-29a0-41b9-aaec-0886aee7a4df",
        "colab": {
          "base_uri": "https://localhost:8080/",
          "height": 34
        }
      },
      "source": [
        "# TEST THE THING\n",
        "\n",
        "seqs = []\n",
        "\n",
        "# virus = 0\n",
        "seq =  'AAAAAAACCAGCAAAAGACTAAACAATGTCTACATCATAATGTTGTTCTCTATTACCACCAAACATAGAGAAATCTAATGGTGCAGCACTATCTCCTCTTAAATCAAAGTCAATAACTTCTTCATGTCCATCCTCACCAACAGCAATACAAGTAGCTAATAAGAAGTCTGGACTTTCAGCATCCTCTTCACTTAATCCATTACAATCAACAACAGTATCTTCAGCAATATCATTCATAAAAGAATGTTTATCAAAGCATATTTCACCTCTAGCAACAGCATAGCATCTTTGAGCAAACTC'\n",
        "seqs.append(DNA_to_onehot(seq))\n",
        "# normal = 1\n",
        "seq2 = 'AACAGTGGGCCACCCATATTTTGAAATACCGAATCCTGCTGAGGCTGGGAAAATAGCAGTTCCAAAGGTTTCTGGCTCTCAATATAGAGTATTCAGATGCAAATTACCAGATCCAAATAAATTTGCGTTAATAGATAGAACTGTTTATAATTCTGAAAGAGAGAGGTTAGTTTGGAAACTCAGAGGCTTACAATTAGGTCGTGGAGGTCCTTTAGGTGTTGGAACTAGTGGACATCCGTTATTTAATAAGGTTCTCGACACAGAAAATCCATCTACATATCCAGTTAAACAAACTGATGA'\n",
        "seqs.append(DNA_to_onehot(seq2))\n",
        "\n",
        "predictions, scores = predict_one_by_one(model, seqs)\n",
        "scores"
      ],
      "execution_count": 5,
      "outputs": [
        {
          "output_type": "execute_result",
          "data": {
            "text/plain": [
              "array([0.07366241, 0.58207309])"
            ]
          },
          "metadata": {
            "tags": []
          },
          "execution_count": 5
        }
      ]
    },
    {
      "cell_type": "code",
      "metadata": {
        "id": "QcM-0tDrWE_L",
        "colab_type": "code",
        "colab": {}
      },
      "source": [
        "# RUN REAL DATA\n",
        "\n",
        "seqs = []\n",
        "lines = []\n",
        "\n",
        "# normal unmapped\n",
        "# f = open('/content/ZR421326-N.unmapped.fasta')\n",
        "# tumor unmapped\n",
        "# f = open('/content/ZR421326-T.unmapped.fasta')\n",
        "# tumor mapped\n",
        "f = open('/content/ZR421326-T.mapped.short.fasta')\n",
        "\n",
        "\n",
        "# for line in f:\n",
        "N = 100000\n",
        "for i in range(N):\n",
        "  line = f.next().strip()\n",
        "  line = line.strip()\n",
        "  if line.startswith('>') is True: continue\n",
        "  if len(line) is not 100: continue\n",
        "  seq = DNA_to_onehot(('N' * 100) + line + ('N' * 100))\n",
        "  # seq = DNA_to_onehot(line * 3)\n",
        "  seqs.append(seq)\n",
        "  lines.append(line)\n",
        "  # break\n",
        "\n",
        "f.close()\n",
        "\n",
        "predictions, scores = predict_one_by_one(model, seqs)"
      ],
      "execution_count": 0,
      "outputs": []
    },
    {
      "cell_type": "code",
      "metadata": {
        "id": "2DFPqoxXPs3J",
        "colab_type": "code",
        "colab": {
          "base_uri": "https://localhost:8080/",
          "height": 34
        },
        "outputId": "177cdbef-a07a-41b9-ed12-6598442d5742"
      },
      "source": [
        "# OUTPUT THE UNIQUES\n",
        "\n",
        "unique, counts = np.unique(predictions, return_counts=True)\n",
        "result = dict(zip(unique, counts))\n",
        "result"
      ],
      "execution_count": 9,
      "outputs": [
        {
          "output_type": "execute_result",
          "data": {
            "text/plain": [
              "{0.0: 43072, 1.0: 293}"
            ]
          },
          "metadata": {
            "tags": []
          },
          "execution_count": 9
        }
      ]
    },
    {
      "cell_type": "code",
      "metadata": {
        "id": "Wt2NR4I-j8uH",
        "colab_type": "code",
        "colab": {
          "base_uri": "https://localhost:8080/",
          "height": 34
        },
        "outputId": "157e63ea-1939-46a1-f990-11cab6fd0b15"
      },
      "source": [
        "# Percentage\n",
        "\n",
        "float(result.get(1))/(result.get(0)+result.get(1)) * 100"
      ],
      "execution_count": 10,
      "outputs": [
        {
          "output_type": "execute_result",
          "data": {
            "text/plain": [
              "0.675660094546293"
            ]
          },
          "metadata": {
            "tags": []
          },
          "execution_count": 10
        }
      ]
    },
    {
      "cell_type": "code",
      "metadata": {
        "id": "oBWIb3WVd-Wr",
        "colab_type": "code",
        "colab": {
          "base_uri": "https://localhost:8080/",
          "height": 1000
        },
        "outputId": "8d3c9536-8bfb-460a-845b-9b99bb893aac"
      },
      "source": [
        "# grab top 10 and blast\n",
        "\n",
        "virus_data = []\n",
        "for i in range(len(predictions)):\n",
        "  if predictions[i] > 0.5:\n",
        "    virus_data.append((lines[i], scores[i]))\n",
        "  # break\n",
        "\n",
        "data = sorted(virus_data, key=lambda virus: virus[1])\n",
        "data.reverse()\n",
        "\n",
        "data[:100]\n"
      ],
      "execution_count": 11,
      "outputs": [
        {
          "output_type": "execute_result",
          "data": {
            "text/plain": [
              "[('TGTAGACTGAGTAAAAATTATAAGCTTCAGTGGTTAACAGTGTAGCTTTCTAAACTGGTTTCTGTTACAGTATATTTACTTGAAGCAATTGGGGGGGTAC',\n",
              "  0.8685897588729858),\n",
              " ('TGTAGACTGAGTAAAAATTATAAGCTTCAGTGGTTAACAGTGTAGCTTTCTAAACTGGTTTCTGTTACAGTATATTTACTTGAAGCAATTGGGGGGGTAC',\n",
              "  0.8685897588729858),\n",
              " ('GTAGACTGAGTAAAAATTATAAGCTTCAGTGGTTAACAGTGTAGCTTTCTAAACTGGTTTCTGTTACAGTATATTTACTTGAAGCAATTGGGGGGGTACT',\n",
              "  0.8499968647956848),\n",
              " ('GTAGACTGAGTAAAAATTATAAGCTTCAGTGGTTAACAGTGTAGCTTTCTAAACTGGTTTCTGTTACAGTATATTTACTTGAAGCAATTGGGGGGGTACT',\n",
              "  0.8499968647956848),\n",
              " ('GTAGACTGAGTAAAAATTATAAGCTTCAGTGGTTAACAGTGTAGCTTTCTAAACTGGTTTCTGTTACAGTATATTTACTTGAAGCAATTGGGGGGGTACT',\n",
              "  0.8499968647956848),\n",
              " ('TTGTAGACTGAGTAAAAATTATAAGCTTCAGTGGTTAACAGTGTAGCTTTCTAAACTGGTTTCTGTTACAGTATATTTACTTGAAGCAATTGGGGGGGTA',\n",
              "  0.8487735986709595),\n",
              " ('TTGTAGACTGAGTAAAAATTATAAGCTTCAGTGGTTAACAGTGTAGCTTTCTAAACTGGTTTCTGTTACAGTATATTTACTTGAAGCAATTGGGGGGGTA',\n",
              "  0.8487735986709595),\n",
              " ('GTTTGTAGACTGAGTAAAAATTATAAGCTTCAGTGGTTAACAGTGTAGCTTTCTAAACTGGTTTCTGTTACAGTATATTTACTTGAAGCAATTGGGGGGG',\n",
              "  0.8029335141181946),\n",
              " ('GTTAACAGTGTAGCTTTCTAAACTGGTTTCTGTTACAGTATATTTACTTGAAGCAATTGGGGGGGTACTTTCTTAAAACAGTGTTTTGCCTTCTCTTAAA',\n",
              "  0.7962791919708252),\n",
              " ('GTTAACAGTGTAGCTTTCTAAACTGGTTTCTGTTACAGTATATTTACTTGAAGCAATTGGGGGGGTACTTTCTTAAAACAGTGTTTTGCCTTCTCTTAAA',\n",
              "  0.7962791919708252),\n",
              " ('GTTTTAAGAGAAGGCAAAACACTGTTTTAAGAAAGTACCCCCCCAATTGCTTCAAGTAAATATACTGTAACAGAAACCAGTTTAGAAAGCTACACTGTTA',\n",
              "  0.7816153764724731),\n",
              " ('AGTTTGTAGACTGAGTAAAAATTATAAGCTTCAGTGGTTAACAGTGTAGCTTTCTAAACTGGTTTCTGTTACAGTATATTTACTTGAAGCAATTGGGGGG',\n",
              "  0.7553334832191467),\n",
              " ('TAACCCTAACCCTAACCCTAACCCTAACCCTAACCCTAACCCTAACCCTAACCCTAACCCTAACCCTAACCCTAACCCTAACCCTAACCCTAACCCTAAC',\n",
              "  0.7537426352500916),\n",
              " ('TAACCCTAACCCTAACCCTAACCCTAACCCTAACCCTAACCCTAACCCTAACCCTAACCCTAACCCTAACCCTAACCCTAACCCTAACCCTAACCCTAAC',\n",
              "  0.7537426352500916),\n",
              " ('TTTGTAGACTGAGTAAAAATTATAAGCTTCAGTGGTTAACAGTGTAGCTTTCTAAACTGGTTTCTGTTACAGTATATTTACTTGAAGCAATTGGGGGGGT',\n",
              "  0.7461342811584473),\n",
              " ('GTTTATTATTCTGAATATATATTACTCTACGATAGTAACTAATTGGTTAACCTGCAGCTATGGTCTATGGTTATACCACAAGTTTATATATAGGTATGTA',\n",
              "  0.7419905662536621),\n",
              " ('GTTTGTAGACTGAGTAAAAATTATAAGCTTCAGTGGTTAACAGTGTAGCTTTCTAAACTGGTTTCTGTTACATTATATTTACTTGAAGCAATTGGGGGGG',\n",
              "  0.7356767058372498),\n",
              " ('TATTGGATTAGGGCCCACGCTAACAGCCTCGTTCTAACTTAACCACCTCTTTAAAGGCGCTGTCTTCAAACACAGCCACATTTTTAGGTACCGGAGGTAG',\n",
              "  0.7291626334190369),\n",
              " ('GTCCTATTGGATTAGGGCCCACGCTAACAGCCTCGTTCTAACTTAACCACCTCTTTAAAGGCACTGTCTTCAAACACAGCCACATTTTTAGGTACCGGAG',\n",
              "  0.7282226085662842),\n",
              " ('GTCATTAGCACTAATTTTGAGCCAACTAACTAATTAATATGAGATGATACAATGTCCTATACTTTGGTAAATACAGACTATGTTTAAACAATGTCTGTAA',\n",
              "  0.7236647605895996),\n",
              " ('CGTTCAGGTACTACCTGAACGACCACCATACCTGGACAAATATGAAAAATTTTTTAGGGAAGCAGAAGAAACAAATGGAGGCGCCCAAATCCAGCCATTA',\n",
              "  0.7149958610534668),\n",
              " ('CGTTGCCAATCTCTGAAGCCCCCTCTCTGGATGACACAGACTGTGAGGTGGAATTCCTAACTAGCTCAGATACAGACTTCCTTTTAGAAGACTCTACACT',\n",
              "  0.7087305188179016),\n",
              " ('GTCTGACCAAAATGGAGGTGTCCCAGATCCAAATCCTCCTCCACCTCAGACCCACCGAAGATTAAGAAGGTCTCATTCGGGACCAGCTGGCTCCTTTAAC',\n",
              "  0.7073504328727722),\n",
              " ('GTCTGACCAAAATGGAGGTGTCCCAGATCCAAATCCTCCTCCACCTCAGACCCACCGAAGATTAAGAAGGTCTCATTCGGGACCAGCTGGCTCCTTTAAC',\n",
              "  0.7073504328727722),\n",
              " ('GTCTGACCAAAATGGAGGTGTCCCAGATCCAAATCCTCCTCCACCTCAGACCCACCGAAGATTAAGAAGGTCTCATTCGGGACCAGCTGGCTCCTTTAAC',\n",
              "  0.7073504328727722),\n",
              " ('GATACCAGTCCTATTGGATTAGGGCCCACGCTAACAGCCTCGTTCTAACTTAACCACCTCTTTAAAGGCGCTGTCTTCAAACACAGCCACATTTTTAGGT',\n",
              "  0.705517590045929),\n",
              " ('GGTTAACAGTGTAGCTTTCTAAACTGGTTTCTGTTACAGTATATTTACTTGAAGCAATTGGGGGGGTACTTTCTTAAAACAGTGTTTTGCCTTCTCTTAA',\n",
              "  0.7018575072288513),\n",
              " ('GGTTAACAGTGTAGCTTTCTAAACTGGTTTCTGTTACAGTATATTTACTTGAAGCAATTGGGGGGGTACTTTCTTAAAACAGTGTTTTGCCTTCTCTTAA',\n",
              "  0.7018575072288513),\n",
              " ('CTCCTCTTTTTATAAGGATACCAGTCCTATTGGATTAGGGCCCACGCTAACAGCCTCGTTCTAACTTAACCACCTCTTTAAAGGCGCTGTCTTCAAACAC',\n",
              "  0.6895158290863037),\n",
              " ('TGTAGCTTTCTAAACTGGTTTCTGTTACAGTATATTTACTTGAAGCAATTGGGGGGGTACTTTCTTAAAACAGTGTTTTGCCTTCTCTTAAAACACTATT',\n",
              "  0.6884889006614685),\n",
              " ('TGTAGCTTTCTAAACTGGTTTCTGTTACAGTATATTTACTTGAAGCAATTGGGGGGGTACTTTCTTAAAACAGTGTTTTGCCTTCTCTTAAAACACTATT',\n",
              "  0.6884889006614685),\n",
              " ('TGTAGCTTTCTAAACTGGTTTCTGTTACAGTATATTTACTTGAAGCAATTGGGGGGGTACTTTCTTAAAACAGTGTTTTGCCTTCTCTTAAAACACTATT',\n",
              "  0.6884889006614685),\n",
              " ('TGTAGCTTTCTAAACTGGTTTCTGTTACAGTATATTTACTTGAAGCAATTGGGGGGGTACTTTCTTAAAACAGTGTTTTGCCTTCTCTTAAAACACTATT',\n",
              "  0.6884889006614685),\n",
              " ('TGTAGCTTTCTAAACTGGTTTCTGTTACAGTATATTTACTTGAAGCAATTGGGGGGGTACTTTCTTAAAACAGTGTTTTGCCTTCTCTTAAAACACTATT',\n",
              "  0.6884889006614685),\n",
              " ('ATGGGGAATATGAGGAAGACCTACTGGAGCAGTCGCAGTGAGTTTAAAAAGTAAGTAGAGGATGTAATGCTGCTGTAATCTGGATAAATATGTGACACTA',\n",
              "  0.6866695284843445),\n",
              " ('ATGGGGAATATGAGGAAGACCTACTGGAGCAGTCGCAGTGAGTTTAAAAAGTAAGTAGAGGATGTAATGCTGCTGTAATCTGGATAAATATGTGACACTA',\n",
              "  0.6866695284843445),\n",
              " ('ATGGGGAATATGAGGAAGACCTACTGGAGCAGTCGCAGTGAGTTTAAAAAGTAAGTAGAGGATGTAATGCTGCTGTAATCTGGATAAATATGTGACACTA',\n",
              "  0.6866695284843445),\n",
              " ('TTAACAGTGTAGCTTTCTAAACTGGTTTCTGTTACAGTATATTTACTTGAAGCAATTGGGGGGGTACTTTCTTAAAACAGTGTTTTGCCTTCTCTTAAAA',\n",
              "  0.6856478452682495),\n",
              " ('TTAACAGTGTAGCTTTCTAAACTGGTTTCTGTTACAGTATATTTACTTGAAGCAATTGGGGGGGTACTTTCTTAAAACAGTGTTTTGCCTTCTCTTAAAA',\n",
              "  0.6856478452682495),\n",
              " ('TTAACAGTGTAGCTTTCTAAACTGGTTTCTGTTACAGTATATTTACTTGAAGCAATTGGGGGGGTACTTTCTTAAAACAGTGTTTTGCCTTCTCTTAAAA',\n",
              "  0.6856478452682495),\n",
              " ('TTAACAGTGTAGCTTTCTAAACTGGTTTCTGTTACAGTATATTTACTTGAAGCAATTGGGGGGGTACTTTCTTAAAACAGTGTTTTGCCTTCTCTTAAAA',\n",
              "  0.6856478452682495),\n",
              " ('TTAACAGTGTAGCTTTCTAAACTGGTTTCTGTTACAGTATATTTACTTGAAGCAATTGGGGGGGTACTTTCTTAAAACAGTGTTTTGCCTTCTCTTAAAA',\n",
              "  0.6856478452682495),\n",
              " ('GTAGCTTTCTAAACTGGTTTCTGTTACAGTATATTTACTTGAAGCAATTGGGGGGGTACTTTCTTAAAACAGTGTTTTGCCTTCTCTTAAAACACTATTC',\n",
              "  0.6768585443496704),\n",
              " ('GTAGCTTTCTAAACTGGTTTCTGTTACAGTATATTTACTTGAAGCAATTGGGGGGGTACTTTCTTAAAACAGTGTTTTGCCTTCTCTTAAAACACTATTC',\n",
              "  0.6768585443496704),\n",
              " ('AACCCTAACCCTAACCCTAACCCTAACCCTAACCCTAACCCTAACCCTAACCCTAACCCTAACCCTAACCCTAACCCTAACCCTAACCCTAACCCTAACC',\n",
              "  0.6675328016281128),\n",
              " ('CGTAGGTGGCCTGACTGGCATTGTATTAGCAAACTCATCACTAGACATCGTACTACACGACACGTACTACGTTGTAGCTCACTTCCACTATGTCCTATCA',\n",
              "  0.6670696139335632),\n",
              " ('TTATAAGCTTCAGTGGTTAACAGTGTAGCTTTCTAAACTGGTTTCTGTTACAGTATATTTACTTGAAGCAATTGGGGGGGTACTTTCTTAAAACAGTGTT',\n",
              "  0.6633020043373108),\n",
              " ('TTATAAGCTTCAGTGGTTAACAGTGTAGCTTTCTAAACTGGTTTCTGTTACAGTATATTTACTTGAAGCAATTGGGGGGGTACTTTCTTAAAACAGTGTT',\n",
              "  0.6633020043373108),\n",
              " ('TTATAAGCTTCAGTGGTTAACAGTGTAGCTTTCTAAACTGGTTTCTGTTACAGTATATTTACTTGAAGCAATTGGGGGGGTACTTTCTTAAAACAGTGTT',\n",
              "  0.6633020043373108),\n",
              " ('TTGTCTGGTGGCTGCGCGTTGTCTGGTGGCTGTGGGTTGTCTGGTGGCTGTGGGTTGTCTGGTGGCTGCGCGTTGTCTGGTGGCTGCGCGTTGTCTGGTG',\n",
              "  0.66302889585495),\n",
              " ('TTAAAAACTGGATTTCTACATAATGGCCGAGCCATGGGGAATATGAGGAAGACCTACTGGAGCAGTCGCGGTGAGTTTAAAAAGTAAGTAGAGGATGTAA',\n",
              "  0.6612309217453003),\n",
              " ('GTTCTAACTTAACCACCTCTTTAAAGGCACTGTCTTCAAACACAGCCACATTTTTAGGTACCGGAGGTAGGACTTGAATATGTGAATTTGGTTGGGGAGT',\n",
              "  0.6566047668457031),\n",
              " ('GTGTAGCTTTCTAAACTGGTTTCTGTTACAGTATATTTACTTGAAGCAATTGGGGGGGTACTTTCTTAAAACAGTGTTTTGCCTTCTCTTAAAACACTAT',\n",
              "  0.6556749939918518),\n",
              " ('TAACTTAACCACCTCTTTAAAGGCGCTGTCTTCAAACACAGCCACATTTTTAGGTACCGGAGGTAGGACTTGAATATGTGAATTTGGTTGGGGAGTGGAA',\n",
              "  0.6554805636405945),\n",
              " ('GCCCCTCTTTGTGAACGGGGTTCTAGGCCTCTTCCACCGTTGCCAATCTCTGAAGCCCTCTCTCTGGATGACACAGACTGTGAGGTGGAATTCCTAACTA',\n",
              "  0.6543940305709839),\n",
              " ('GCCCCTCTTTGTGAACGGGGTTCTAGGCCTCTTCCACCGTTGCCAATCTCTGAAGCCCTCTCTCTGGATGACACAGACTGTGAGGTGGAATTCCTAACTA',\n",
              "  0.6543940305709839),\n",
              " ('GCCCCTCTTTGTGAACGGGGTTCTAGGCCTCTTCCACCGTTGCCAATCTCTGAAGCCCTCTCTCTGGATGACACAGACTGTGAGGTGGAATTCCTAACTA',\n",
              "  0.6543940305709839),\n",
              " ('GCCCCTCTTTGTGAACGGGGTTCTAGGCCTCTTCCACCGTTGCCAATCTCTGAAGCCCTCTCTCTGGATGACACAGACTGTGAGGTGGAATTCCTAACTA',\n",
              "  0.6543940305709839),\n",
              " ('TAACTCCACTGTGTAAACGCCCATGAACATAAGATTACAAGACTTTTCCAGTTTAGACATACCATATTTTCTTTCAGACAATTCTTCAGTTTGTTTACGT',\n",
              "  0.6534520983695984),\n",
              " ('GTAAAAATTATAAGCTTCAGTGGTTAACAGTGTAGCTTTCTAAACTGGTTTCTGTTACAGTATATTTACTTGAAGCAATTGGGGGGGTACTTTCTTAAAA',\n",
              "  0.6479763984680176),\n",
              " ('GTAAAAATTATAAGCTTCAGTGGTTAACAGTGTAGCTTTCTAAACTGGTTTCTGTTACAGTATATTTACTTGAAGCAATTGGGGGGGTACTTTCTTAAAA',\n",
              "  0.6479763984680176),\n",
              " ('GTAAAAATTATAAGCTTCAGTGGTTAACAGTGTAGCTTTCTAAACTGGTTTCTGTTACAGTATATTTACTTGAAGCAATTGGGGGGGTACTTTCTTAAAA',\n",
              "  0.6479763984680176),\n",
              " ('GTAAAAATTATAAGCTTCAGTGGTTAACAGTGTAGCTTTCTAAACTGGTTTCTGTTACAGTATATTTACTTGAAGCAATTGGGGGGGTACTTTCTTAAAA',\n",
              "  0.6479763984680176),\n",
              " ('GTAAAAATTATAAGCTTCAGTGGTTAACAGTGTAGCTTTCTAAACTGGTTTCTGTTACAGTATATTTACTTGAAGCAATTGGGGGGGTACTTTCTTAAAA',\n",
              "  0.6479763984680176),\n",
              " ('GTAAAAATTATAAGCTTCAGTGGTTAACAGTGTAGCTTTCTAAACTGGTTTCTGTTACAGTATATTTACTTGAAGCAATTGGGGGGGTACTTTCTTAAAA',\n",
              "  0.6479763984680176),\n",
              " ('TACTTACTTTTTAAACTCACTGCGACTGCTCCAGTAGGTCTTCCTCATACTCCCCATGGCTCGGCCATTATGTAGAAATCCAGTTTTTAATGGGACTCTG',\n",
              "  0.6408235430717468),\n",
              " ('GAATATGAGGAAGACCTACTGGAGCAGTCGCAGTGAGTTTAAAAAGTAAGTAGAGGATGTATGCCGCTGTAATCTGGATAAATAAGGTACACTAAAATGG',\n",
              "  0.639538049697876),\n",
              " ('TAAACTGGTTTCTGTTACAGTATATTTACTTGAAGCAATTGGGGGGGTACTTTCTTAAAACAGTGTTTTGCCTTCTCTTAAAACACTATTCCTTCTAGAC',\n",
              "  0.6390232443809509),\n",
              " ('TTAACAGATGTTTTACTATGGAATCCAAGATATTGACAAGAGTTAATCCAGTCCCAAGCGCATGTCTTGGCTTAGAACTCTCTTGGCTTAGAACATTAAC',\n",
              "  0.6357902884483337),\n",
              " ('TTAACAGATGTTTTACTATGGAATCCAAGATATTGACAAGAGTTAATCCAGTCCCAAGCGCATGTCTTGGCTTAGAACTCTCTTGGCTTAGAACATTAAC',\n",
              "  0.6357902884483337),\n",
              " ('AGTAAAAATTATAAGCTTCAGTGGTTAACAGTGTAGCTTTCTAAACTGGTTTCTGTTACAGTATATTTACTTGAAGCAATTGGGGGGGTACTTTCTTAAA',\n",
              "  0.6341140270233154),\n",
              " ('ACCCTAACCCTAACCCTAACCCTAACCCTAACCCTAACCCTAACCCTAACCCTAACCCTAACCCTAACCCTAACCCTAACCCTAACCCTAACCCTAACCC',\n",
              "  0.6302229762077332),\n",
              " ('ACCCTAACCCTAACCCTAACCCTAACCCTAACCCTAACCCTAACCCTAACCCTAACCCTAACCCTAACCCTAACCCTAACCCTAACCCTAACCCTAACCC',\n",
              "  0.6302229762077332),\n",
              " ('ACCCTAACCCTAACCCTAACCCTAACCCTAACCCTAACCCTAACCCTAACCCTAACCCTAACCCTAACCCTAACCCTAACCCTAACCCTAACCCTAACCC',\n",
              "  0.6302229762077332),\n",
              " ('ACCGTTGCCAATCTCTGAAGCCCTCTCTCTGGATGACACAGACTGTGAGGTGGAATTCCTAACTAGCTCAGATACAGACTTCCTTTTAGAAGACTCTACA',\n",
              "  0.627971351146698),\n",
              " ('ACCGTTGCCAATCTCTGAAGCCCTCTCTCTGGATGACACAGACTGTGAGGTGGAATTCCTAACTAGCTCAGATACAGACTTCCTTTTAGAAGACTCTACA',\n",
              "  0.627971351146698),\n",
              " ('TACATAATGGCCGAGCCATGGGGAATATGAGGAAGACCTACTGGAGCAGTCGCAGTGAGTTTAAAAAGTAAGTAGAGGATGTAATGCTGCTGTAATCTGG',\n",
              "  0.622380793094635),\n",
              " ('TACATAATGGCCGAGCCATGGGGAATATGAGGAAGACCTACTGGAGCAGTCGCAGTGAGTTTAAAAAGTAAGTAGAGGATGTAATGCTGCTGTAATCTGG',\n",
              "  0.622380793094635),\n",
              " ('TATAAGTACCCTCACGAGCTGTGAGAATTAAGTGAAAGTCTACAACTAATTTTTTCTATTCAGCATCCCCCAAATCCTCTGTTAGCTTTGCTGTAATTTA',\n",
              "  0.6216827630996704),\n",
              " ('CAGTTTGTAGACTGAGTAAAAATTATAAGCTTCAGTGGTTAACAGTGTAGCTTTCTAAACTGGTTTCTGTTACAGTATATTTACTTGAAGCAATTGGGGG',\n",
              "  0.6155639886856079),\n",
              " ('CAGTTTGTAGACTGAGTAAAAATTATAAGCTTCAGTGGTTAACAGTGTAGCTTTCTAAACTGGTTTCTGTTACAGTATATTTACTTGAAGCAATTGGGGG',\n",
              "  0.6155639886856079),\n",
              " ('GTACTTCCGGTCTGGGAGTCTGGTGGGTATCTGATATTTTTGCTAAATTTGCCGCTGACATTTTATTGACAGGGCTCAGAGACGCTGACTCCGGTCGGGG',\n",
              "  0.6137073040008545),\n",
              " ('GTACTTCCGGTCTGGGAGTCTGGTGGGTATCTGATATTTTTGCTAAATTTGCCGCTGACATTTTATTGACAGGGCTCAGAGACGCTGACTCCGGTCGGGG',\n",
              "  0.6137073040008545),\n",
              " ('AATATGAGGAAGACCTACTGGAGCAGTCGCAGTGAGTTTAAAAAGTAAGTAGAGGATGTAATGCTGCTGTAATCTGGATAAATATGTGACACTAAAATGG',\n",
              "  0.6066949367523193),\n",
              " ('TTATAAGCATCAGTGGTTAAAAGTGTAGCTTTCTAAACTGGTTTCTGTTACAGTATATTTACTTGAAGCAATTGGGGGGGTACTTTCTTAAAACAGTGTT',\n",
              "  0.6056828498840332),\n",
              " ('ATTAAAAACTGGATTTCTACATAATGGCCGAGCCATGGGGAATATGAGGAAGACCTACTGGAGCAGTCGCAGTGAGTTTAAAAAGTAAGTAGAGGATGTA',\n",
              "  0.6056490540504456),\n",
              " ('ATTAAAAACTGGATTTCTACATAATGGCCGAGCCATGGGGAATATGAGGAAGACCTACTGGAGCAGTCGCAGTGAGTTTAAAAAGTAAGTAGAGGATGTA',\n",
              "  0.6056490540504456),\n",
              " ('ATTAAAAACTGGATTTCTACATAATGGCCGAGCCATGGGGAATATGAGGAAGACCTACTGGAGCAGTCGCAGTGAGTTTAAAAAGTAAGTAGAGGATGTA',\n",
              "  0.6056490540504456),\n",
              " ('ATTAAAAACTGGATTTCTACATAATGGCCGAGCCATGGGGAATATGAGGAAGACCTACTGGAGCAGTCGCAGTGAGTTTAAAAAGTAAGTAGAGGATGTA',\n",
              "  0.6056490540504456),\n",
              " ('TACTATGGAATCCAAGATATTGACAAGAGTTAATCCAGTCCCAAGCGCATGTCTTGGCTTAGAACTCTCTTGGCTTAGAACATTAACCCATTTAATTGAC',\n",
              "  0.6051180958747864),\n",
              " ('TACTATGGAATCCAAGATATTGACAAGAGTTAATCCAGTCCCAAGCGCATGTCTTGGCTTAGAACTCTCTTGGCTTAGAACATTAACCCATTTAATTGAC',\n",
              "  0.6051180958747864),\n",
              " ('TTACATCCTCTACTTACTTTTTAAACTCACTGCGACTGCTCCAGTAGGTCTTCCTCATATTCCCCATGGCTCGGCCATTATGTAGAAATCCAGTTTTTAA',\n",
              "  0.6050563454627991),\n",
              " ('TTACATCCTCTACTTACTTTTTAAACTCACTGCGACTGCTCCAGTAGGTCTTCCTCATATTCCCCATGGCTCGGCCATTATGTAGAAATCCAGTTTTTAA',\n",
              "  0.6050563454627991),\n",
              " ('TTACATCCTCTACTTACTTTTTAAACTCACTGCGACTGCTCCAGTAGGTCTTCCTCATATTCCCCATGGCTCGGCCATTATGTAGAAATCCAGTTTTTAA',\n",
              "  0.6050563454627991),\n",
              " ('TTACATCCTCTACTTACTTTTTAAACTCACTGCGACTGCTCCAGTAGGTCTTCCTCATATTCCCCATGGCTCGGCCATTATGTAGAAATCCAGTTTTTAA',\n",
              "  0.6050563454627991),\n",
              " ('TTACATCCTCTACTTACTTTTTAAACTCACTGCGACTGCTCCAGTAGGTCTTCCTCATATTCCCCATGGCTCGGCCATTATGTAGAAATCCAGTTTTTAA',\n",
              "  0.6050563454627991),\n",
              " ('TTACATCCTCTACTTACTTTTTAAACTCACTGCGACTGCTCCAGTAGGTCTTCCTCATATTCCCCATGGCTCGGCCATTATGTAGAAATCCAGTTTTTAA',\n",
              "  0.6050563454627991),\n",
              " ('TTACATCCTCTACTTACTTTTTAAACTCACTGCGACTGCTCCAGTAGGTCTTCCTCATATTCCCCATGGCTCGGCCATTATGTAGAAATCCAGTTTTTAA',\n",
              "  0.6050563454627991),\n",
              " ('TCCTCTTTTTATAAGGATACCAGTCCTATTGGATTAGGGCCCACGCTAACAGCCTCGTTCTAACTTAACCACCTCTTTAAAGGCGCTGTCTTCAAACACA',\n",
              "  0.6046673655509949),\n",
              " ('CTAACCCTAACCCTAACCCTAACCCTAACCCTAACCCTAACCCTAACCCTAACCCTAACCCTAACCCTAACCCTAACCCTAACCCTAACCCTAACCCTAA',\n",
              "  0.6015687584877014)]"
            ]
          },
          "metadata": {
            "tags": []
          },
          "execution_count": 11
        }
      ]
    },
    {
      "cell_type": "code",
      "metadata": {
        "id": "gFFrVlMgZFt-",
        "colab_type": "code",
        "outputId": "a173dec8-f405-41fd-a683-214c24e9e101",
        "colab": {
          "base_uri": "https://localhost:8080/",
          "height": 181
        }
      },
      "source": [
        "cowsay.cow('hello Onno .... ')\n",
        "cowsay.cow('hi Cosmo .... ')"
      ],
      "execution_count": 86,
      "outputs": [
        {
          "output_type": "error",
          "ename": "NameError",
          "evalue": "ignored",
          "traceback": [
            "\u001b[0;31m\u001b[0m",
            "\u001b[0;31mNameError\u001b[0mTraceback (most recent call last)",
            "\u001b[0;32m<ipython-input-86-b920b5dc5fb2>\u001b[0m in \u001b[0;36m<module>\u001b[0;34m()\u001b[0m\n\u001b[0;32m----> 1\u001b[0;31m \u001b[0mcowsay\u001b[0m\u001b[0;34m.\u001b[0m\u001b[0mcow\u001b[0m\u001b[0;34m(\u001b[0m\u001b[0;34m'hello Onno .... '\u001b[0m\u001b[0;34m)\u001b[0m\u001b[0;34m\u001b[0m\u001b[0m\n\u001b[0m\u001b[1;32m      2\u001b[0m \u001b[0mcowsay\u001b[0m\u001b[0;34m.\u001b[0m\u001b[0mcow\u001b[0m\u001b[0;34m(\u001b[0m\u001b[0;34m'hi Cosmo .... '\u001b[0m\u001b[0;34m)\u001b[0m\u001b[0;34m\u001b[0m\u001b[0m\n",
            "\u001b[0;31mNameError\u001b[0m: name 'cowsay' is not defined"
          ]
        }
      ]
    },
    {
      "cell_type": "markdown",
      "metadata": {
        "id": "biWnt-KQ104a",
        "colab_type": "text"
      },
      "source": [
        "# TODO\n",
        "\n",
        "Find out which viruses are in the reads\n",
        "Score the amount of virus in it\n",
        "\n"
      ]
    },
    {
      "cell_type": "code",
      "metadata": {
        "id": "1rqJgU1EdIie",
        "colab_type": "code",
        "colab": {}
      },
      "source": [
        ""
      ],
      "execution_count": 0,
      "outputs": []
    }
  ]
}